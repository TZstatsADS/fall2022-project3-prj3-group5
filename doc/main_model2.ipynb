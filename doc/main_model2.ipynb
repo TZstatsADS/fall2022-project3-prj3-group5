{
 "cells": [
  {
   "cell_type": "code",
   "execution_count": 1,
   "id": "34081b9a",
   "metadata": {},
   "outputs": [],
   "source": [
    "# Import required packages\n",
    "import numpy as np\n",
    "import cv2\n",
    "import matplotlib.pyplot as plt\n",
    "from sklearn.metrics import classification_report\n",
    "from sklearn.linear_model import LogisticRegression\n",
    "import tensorflow as tf\n",
    "import tensorflow_hub as hub"
   ]
  },
  {
   "cell_type": "code",
   "execution_count": 2,
   "id": "22a582d9",
   "metadata": {},
   "outputs": [],
   "source": [
    "#!pip install opencv-python\n",
    "#!pip install tensorflow\n",
    "# !pip install tensorflow_hub"
   ]
  },
  {
   "cell_type": "markdown",
   "id": "62560d72",
   "metadata": {},
   "source": [
    "## 1. Load the datasets"
   ]
  },
  {
   "cell_type": "markdown",
   "id": "d145797a",
   "metadata": {},
   "source": [
    "For the project, we provide a training set with 50000 images in the directory `../data/images/` with:\n",
    "- noisy labels for all images provided in `../data/noisy_label.csv`;\n",
    "- clean labels for the first 10000 images provided in `../data/clean_labels.csv`. "
   ]
  },
  {
   "cell_type": "code",
   "execution_count": 3,
   "id": "bf61bc2c",
   "metadata": {},
   "outputs": [],
   "source": [
    "# [DO NOT MODIFY THIS CELL]\n",
    "\n",
    "# load the images\n",
    "n_img = 50000\n",
    "n_noisy = 40000\n",
    "n_clean_noisy = n_img - n_noisy\n",
    "imgs = np.empty((n_img,32,32,3))\n",
    "for i in range(n_img):\n",
    "    img_fn = f'../data/images/{i+1:05d}.png'\n",
    "    imgs[i,:,:,:]=cv2.cvtColor(cv2.imread(img_fn),cv2.COLOR_BGR2RGB)\n",
    "\n",
    "# load the labels\n",
    "clean_labels = np.genfromtxt('../data/clean_labels.csv', delimiter=',', dtype=\"int8\")\n",
    "noisy_labels = np.genfromtxt('../data/noisy_labels.csv', delimiter=',', dtype=\"int8\")"
   ]
  },
  {
   "cell_type": "markdown",
   "id": "a31797f7",
   "metadata": {},
   "source": [
    "For illustration, we present a small subset (of size 8) of the images with their clean and noisy labels in `clean_noisy_trainset`. You are encouraged to explore more characteristics of the label noises on the whole dataset. "
   ]
  },
  {
   "cell_type": "code",
   "execution_count": null,
   "id": "467183fc",
   "metadata": {
    "scrolled": true
   },
   "outputs": [],
   "source": [
    "# [DO NOT MODIFY THIS CELL]\n",
    "\n",
    "fig = plt.figure()\n",
    "\n",
    "ax1 = fig.add_subplot(2,4,1)\n",
    "ax1.imshow(imgs[0]/255)\n",
    "ax2 = fig.add_subplot(2,4,2)\n",
    "ax2.imshow(imgs[1]/255)\n",
    "ax3 = fig.add_subplot(2,4,3)\n",
    "ax3.imshow(imgs[2]/255)\n",
    "ax4 = fig.add_subplot(2,4,4)\n",
    "ax4.imshow(imgs[3]/255)\n",
    "ax1 = fig.add_subplot(2,4,5)\n",
    "ax1.imshow(imgs[4]/255)\n",
    "ax2 = fig.add_subplot(2,4,6)\n",
    "ax2.imshow(imgs[5]/255)\n",
    "ax3 = fig.add_subplot(2,4,7)\n",
    "ax3.imshow(imgs[6]/255)\n",
    "ax4 = fig.add_subplot(2,4,8)\n",
    "ax4.imshow(imgs[7]/255)\n",
    "\n",
    "# The class-label correspondence\n",
    "classes = ('plane', 'car', 'bird', 'cat',\n",
    "           'deer', 'dog', 'frog', 'horse', 'ship', 'truck')\n",
    "\n",
    "# print clean labels\n",
    "print('Clean labels:')\n",
    "print(' '.join('%5s' % classes[clean_labels[j]] for j in range(8)))\n",
    "# print noisy labels\n",
    "print('Noisy labels:')\n",
    "print(' '.join('%5s' % classes[noisy_labels[j]] for j in range(8)))"
   ]
  },
  {
   "cell_type": "markdown",
   "id": "b630b85e",
   "metadata": {},
   "source": [
    "## 2. The predictive model\n",
    "\n",
    "We consider a baseline model directly on the noisy dataset without any label corrections. RGB histogram features are extracted to fit a logistic regression model."
   ]
  },
  {
   "cell_type": "markdown",
   "id": "71a05f00",
   "metadata": {},
   "source": [
    "### 2.1. Baseline Model"
   ]
  },
  {
   "cell_type": "code",
   "execution_count": null,
   "id": "fbb9bb40",
   "metadata": {},
   "outputs": [],
   "source": [
    "# [DO NOT MODIFY THIS CELL]\n",
    "# RGB histogram dataset construction\n",
    "no_bins = 6\n",
    "bins = np.linspace(0,255,no_bins) # the range of the rgb histogram\n",
    "target_vec = np.empty(n_img)\n",
    "feature_mtx = np.empty((n_img,3*(len(bins)-1)))\n",
    "i = 0\n",
    "for i in range(n_img):\n",
    "    # The target vector consists of noisy labels\n",
    "    target_vec[i] = noisy_labels[i]\n",
    "    \n",
    "    # Use the numbers of pixels in each bin for all three channels as the features\n",
    "    feature1 = np.histogram(imgs[i][:,:,0],bins=bins)[0] \n",
    "    feature2 = np.histogram(imgs[i][:,:,1],bins=bins)[0]\n",
    "    feature3 = np.histogram(imgs[i][:,:,2],bins=bins)[0]\n",
    "    \n",
    "    # Concatenate three features\n",
    "    feature_mtx[i,] = np.concatenate((feature1, feature2, feature3), axis=None)\n",
    "    i += 1"
   ]
  },
  {
   "cell_type": "code",
   "execution_count": null,
   "id": "e3e486ed",
   "metadata": {},
   "outputs": [],
   "source": [
    "# [DO NOT MODIFY THIS CELL]\n",
    "# Train a logistic regression model \n",
    "clf = LogisticRegression(random_state=0).fit(feature_mtx, target_vec)"
   ]
  },
  {
   "cell_type": "markdown",
   "id": "aa1ed583",
   "metadata": {},
   "source": [
    "For the convenience of evaluation, we write the following function `predictive_model` that does the label prediction. **For your predictive model, feel free to modify the function, but make sure the function takes an RGB image of numpy.array format with dimension $32\\times32\\times3$  as input, and returns one single label as output.**"
   ]
  },
  {
   "cell_type": "code",
   "execution_count": null,
   "id": "2387db72",
   "metadata": {},
   "outputs": [],
   "source": [
    "# [DO NOT MODIFY THIS CELL]\n",
    "def baseline_model(image):\n",
    "    '''\n",
    "    This is the baseline predictive model that takes in the image and returns a label prediction\n",
    "    '''\n",
    "    feature1 = np.histogram(image[:,:,0],bins=bins)[0]\n",
    "    feature2 = np.histogram(image[:,:,1],bins=bins)[0]\n",
    "    feature3 = np.histogram(image[:,:,2],bins=bins)[0]\n",
    "    feature = np.concatenate((feature1, feature2, feature3), axis=None).reshape(1,-1)\n",
    "    return clf.predict(feature)"
   ]
  },
  {
   "cell_type": "markdown",
   "id": "29f2f42d",
   "metadata": {},
   "source": [
    "### 2.2. Model I"
   ]
  },
  {
   "cell_type": "markdown",
   "id": "27361f05",
   "metadata": {},
   "source": [
    "We used ResNet50 model to predict the labels of the image."
   ]
  },
  {
   "cell_type": "code",
   "execution_count": null,
   "id": "e2a75a28",
   "metadata": {},
   "outputs": [],
   "source": [
    "## split train and test noisy data\n",
    "print(noisy_labels.shape)\n",
    "print(imgs.shape)\n",
    "n_samples=imgs.shape[0]\n",
    "perm = np.random.permutation(n_samples)\n",
    "test_size = int(n_samples * 0.2)\n",
    "val_idx = perm[:test_size]\n",
    "train_idx = perm[test_size:]\n",
    "Y_train, X_train = noisy_labels[train_idx], imgs[train_idx]\n",
    "Y_val, X_val= noisy_labels[val_idx], imgs[val_idx]\n",
    "print(X_train.shape,Y_train.shape,X_val.shape,Y_val.shape)#train/test split"
   ]
  },
  {
   "cell_type": "code",
   "execution_count": null,
   "id": "eb118437",
   "metadata": {},
   "outputs": [],
   "source": [
    "# #train/test split for clean data (only run either noisy data or clean data, not both, the variable name of will be covered)\n",
    "# print(clean_labels.shape)\n",
    "# print(imgs[:10000].shape)\n",
    "# n_samples=imgs[:10000].shape[0]\n",
    "# perm = np.random.permutation(n_samples)\n",
    "# test_size = int(n_samples * 0.2)\n",
    "# val_idx = perm[:test_size]\n",
    "# train_idx = perm[test_size:]\n",
    "# Y_train, X_train = clean_labels[train_idx], imgs[:10000][train_idx]\n",
    "# Y_val, X_val= clean_labels[val_idx], imgs[:10000][val_idx]\n",
    "# print(X_train.shape,Y_train.shape,X_val.shape,Y_val.shape)#train/test split"
   ]
  },
  {
   "cell_type": "code",
   "execution_count": null,
   "id": "7bbbe1ce",
   "metadata": {},
   "outputs": [],
   "source": [
    "# train a model\n",
    "base_model = tf.keras.applications.resnet.ResNet50(weights='imagenet', \n",
    "                                                   input_shape=(32, 32, 3),\n",
    "                                                   include_top=False)#include_top=False means not include the output layer\n",
    "base_model.trainable = False #Do not train the transfered model again\n",
    "inputs = tf.keras.Input(shape=(32, 32, 3))\n",
    "x = tf.keras.applications.resnet.preprocess_input(inputs)#make sure to use the corresponding preprocessing\n",
    "x = base_model(x, training=False)\n",
    "x = tf.keras.layers.GlobalAveragePooling2D()(x)\n",
    "x = tf.keras.layers.Dropout(0.2)(x)\n",
    "x = tf.keras.layers.Dense(1024,activation=\"relu\")(x)\n",
    "x = tf.keras.layers.Dense(512,activation=\"relu\")(x)\n",
    "x = tf.keras.layers.Dense(128,activation=\"relu\")(x)\n",
    "outputs = tf.keras.layers.Dense(10,activation=\"softmax\")(x)\n",
    "model = tf.keras.Model(inputs, outputs)\n",
    "model.compile(optimizer=tf.keras.optimizers.SGD(learning_rate=0.001), \n",
    "                  loss=tf.keras.losses.SparseCategoricalCrossentropy(),\n",
    "                  metrics=tf.keras.metrics.SparseCategoricalAccuracy())\n",
    "early_stopping = tf.keras.callbacks.EarlyStopping(patience=3) #early stopping: let the training process stops when it reaches a maximum"
   ]
  },
  {
   "cell_type": "code",
   "execution_count": null,
   "id": "1f1db04a",
   "metadata": {},
   "outputs": [],
   "source": [
    "def model_I(image):\n",
    "    '''\n",
    "    This function should takes in the image of dimension 32*32*3 as input and returns a label prediction\n",
    "    '''\n",
    "    return np.argmax(model.predict(image),axis=-1)"
   ]
  },
  {
   "cell_type": "code",
   "execution_count": null,
   "id": "3ede06ef",
   "metadata": {},
   "outputs": [],
   "source": [
    "import time\n",
    "\n",
    "start = time.time()\n",
    "history = model.fit(X_train,Y_train, epochs=100, validation_data=(X_val,Y_val),callbacks=[early_stopping])\n",
    "end = time.time()\n",
    "\n",
    "print('Model 1 training takes '+ str(end - start)+ ' seconds')"
   ]
  },
  {
   "cell_type": "code",
   "execution_count": null,
   "id": "660d3b0e",
   "metadata": {},
   "outputs": [],
   "source": [
    "model.summary()"
   ]
  },
  {
   "cell_type": "markdown",
   "id": "dc848a2a",
   "metadata": {},
   "source": [
    "### 2.3. Model II"
   ]
  },
  {
   "cell_type": "markdown",
   "id": "0bac9590",
   "metadata": {},
   "source": [
    "We used VGG16 in Model II. We trained the VGG16 model based on the predicted labels of Model I. We could see the accuracy went up to 57% in comparison to Model I. \n",
    "- Model II takes about 111 seconds to run \n",
    "- Early stopping is used to avoid overfitting."
   ]
  },
  {
   "cell_type": "code",
   "execution_count": null,
   "id": "4cd8505e",
   "metadata": {},
   "outputs": [],
   "source": [
    "import tensorflow.keras as keras\n",
    "#from tensorflow.khttp://localhost:8888/notebooks/Downloads/main.ipynb #2.3.-Model-IIeras.applications.vgg16 import VGG16\n",
    "from keras.applications.vgg16 import VGG16\n",
    "from tensorflow.keras.applications.vgg16 import preprocess_input\n",
    "from sklearn.model_selection import train_test_split\n",
    "from tensorflow.keras.callbacks import EarlyStopping\n",
    "from tensorflow.keras import layers, models"
   ]
  },
  {
   "cell_type": "code",
   "execution_count": null,
   "id": "be06e70c",
   "metadata": {},
   "outputs": [],
   "source": [
    "## break down train and test\n",
    "clean_labels = list(clean_labels)\n",
    "noisy_labels = list(noisy_labels[10000:])\n",
    "\n",
    "clean_imgs_train_x, test_x, clean_imgs_train_y, test_y  = train_test_split(imgs[0:10000], clean_labels, test_size = 0.2, random_state=5)\n",
    "noisy_imgs_train_x, noisy_test_x, noise_imgs_train_y, noisy_test_y  = train_test_split(imgs[10000:], noisy_labels, test_size = 0.2, random_state=5)\n",
    "\n",
    "imgs_train_x = np.concatenate((clean_imgs_train_x, noisy_imgs_train_x))\n",
    "imgs_train_y = np.concatenate((clean_imgs_train_y, noise_imgs_train_y))\n",
    "imgs_train_y = tf.one_hot(imgs_train_y, depth = 10)\n",
    "imgs_test_y = tf.one_hot(test_y, depth = 10)"
   ]
  },
  {
   "cell_type": "code",
   "execution_count": null,
   "id": "54f6eda1",
   "metadata": {},
   "outputs": [],
   "source": [
    "## load the VGG16 model and define\n",
    "\n",
    "def vgg16():\n",
    "    model2 = VGG16(weights=\"imagenet\", include_top=False, input_shape=(32, 32, 3))\n",
    "    model2.trainable = False ## Not trainable weights\n",
    "\n",
    "    # adding layers\n",
    "    flatten_layer = layers.Flatten()\n",
    "    dense_layer_1 = layers.Dense(50, activation='relu')\n",
    "    dense_layer_2 = layers.Dense(20, activation='relu')\n",
    "    prediction_layer = layers.Dense(10, activation='softmax')\n",
    "\n",
    "    model_vgg = models.Sequential([\n",
    "        layers.Rescaling(1./255, input_shape=(32,32,3)),\n",
    "        model2,\n",
    "        flatten_layer,\n",
    "        dense_layer_1,\n",
    "        dense_layer_2,\n",
    "        prediction_layer\n",
    "    ])\n",
    "    \n",
    "    # compile\n",
    "    model_vgg.compile(optimizer='adam', loss=keras.losses.categorical_crossentropy, metrics=['accuracy'],\n",
    "    )\n",
    "    \n",
    "    return model_vgg\n",
    "\n",
    "## define model II\n",
    "\n",
    "def model_II(image):\n",
    "    '''\n",
    "    This function should takes in the image of dimension 32*32*3 as input and returns a label prediction\n",
    "    '''\n",
    "    return np.argmax(model_vgg().predict(image), axis = 1)"
   ]
  },
  {
   "cell_type": "code",
   "execution_count": null,
   "id": "eed30aa6",
   "metadata": {},
   "outputs": [],
   "source": [
    "## train VGG16 model with predicted labels from Model I\n",
    "predicted_labels = model_I(imgs)\n",
    "pl = list(predicted_labels)\n",
    "pl_train_x, pl_test_x, pl_train_y, pl_test_y = train_test_split(imgs, pl, test_size=0.2, random_state = 5)\n",
    "pl_train_y = tf.one_hot(pl_train_y, depth = 10)\n",
    "\n",
    "## run model\n",
    "model_vgg = vgg16\n",
    "es = EarlyStopping(monitor='val_accuracy', mode='max', patience=3,  restore_best_weights=True) #early stopping to avoid overfitting\n",
    "model_vgg().fit(pl_train_x, pl_train_y, epochs=50, validation_split=0.2, batch_size=512, callbacks=[es])"
   ]
  },
  {
   "cell_type": "markdown",
   "id": "b0c27774",
   "metadata": {},
   "source": [
    "## 3. Evaluation"
   ]
  },
  {
   "cell_type": "markdown",
   "id": "91ce824f",
   "metadata": {},
   "source": [
    "For assessment, we will evaluate your final model on a hidden test dataset with clean labels by the `evaluation` function defined as follows. Although you will not have the access to the test set, the function would be useful for the model developments. For example, you can split the small training set, using one portion for weakly supervised learning and the other for validation purpose. "
   ]
  },
  {
   "cell_type": "code",
   "execution_count": null,
   "id": "8bbea43f",
   "metadata": {},
   "outputs": [],
   "source": [
    "# [DO NOT MODIFY THIS CELL]\n",
    "def evaluation(model, test_labels, test_imgs):\n",
    "    y_true = test_labels\n",
    "    y_pred = []\n",
    "    for image in test_imgs:\n",
    "        y_pred.append(model(image))\n",
    "    print(classification_report(y_true, y_pred))"
   ]
  },
  {
   "cell_type": "code",
   "execution_count": null,
   "id": "ddfd642b",
   "metadata": {},
   "outputs": [],
   "source": [
    "# [DO NOT MODIFY THIS CELL]\n",
    "# This is the code for evaluating the prediction performance on a testset\n",
    "# You will get an error if running this cell, as you do not have the testset\n",
    "# Nonetheless, you can create your own validation set to run the evlauation\n",
    "n_test = 10000\n",
    "test_labels = np.genfromtxt('../data/test_labels.csv', delimiter=',', dtype=\"int8\")\n",
    "test_imgs = np.empty((n_test,32,32,3))\n",
    "for i in range(n_test):\n",
    "    img_fn = f'../data/test_images/test{i+1:05d}.png'\n",
    "    test_imgs[i,:,:,:]=cv2.cvtColor(cv2.imread(img_fn),cv2.COLOR_BGR2RGB)\n",
    "    \n",
    "evaluation(baseline_model, test_labels, test_imgs)"
   ]
  },
  {
   "cell_type": "markdown",
   "id": "9a6217b4",
   "metadata": {},
   "source": [
    "The overall accuracy is $0.24$, which is better than random guess (which should have a accuracy around $0.10$). For the project, you should try to improve the performance by the following strategies:\n",
    "\n",
    "- Consider a better choice of model architectures, hyperparameters, or training scheme for the predictive model;\n",
    "- Use both `clean_noisy_trainset` and `noisy_trainset` for model training via **weakly supervised learning** methods. One possible solution is to train a \"label-correction\" model using the former, correct the labels in the latter, and train the final predictive model using the corrected dataset.\n",
    "- Apply techniques such as $k$-fold cross validation to avoid overfitting;\n",
    "- Any other reasonable strategies."
   ]
  },
  {
   "cell_type": "markdown",
   "id": "03b2f887",
   "metadata": {},
   "source": []
  },
  {
   "cell_type": "markdown",
   "id": "159e41c5",
   "metadata": {},
   "source": []
  }
 ],
 "metadata": {
  "kernelspec": {
   "display_name": "Python 3.10.1 64-bit",
   "language": "python",
   "name": "python3"
  },
  "language_info": {
   "codemirror_mode": {
    "name": "ipython",
    "version": 3
   },
   "file_extension": ".py",
   "mimetype": "text/x-python",
   "name": "python",
   "nbconvert_exporter": "python",
   "pygments_lexer": "ipython3",
   "version": "3.10.1"
  },
  "vscode": {
   "interpreter": {
    "hash": "998c911629ba937bcf1bf80465453e12e8c5c2c818cb936f93ef7cf495a937a9"
   }
  }
 },
 "nbformat": 4,
 "nbformat_minor": 5
}
